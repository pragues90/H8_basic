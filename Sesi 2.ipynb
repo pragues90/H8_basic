{
 "cells": [
  {
   "cell_type": "code",
   "execution_count": 1,
   "metadata": {},
   "outputs": [
    {
     "name": "stdout",
     "output_type": "stream",
     "text": [
      "yes\n",
      "yes\n",
      "yes\n"
     ]
    }
   ],
   "source": [
    "x = 0\n",
    "y = 5\n",
    "\n",
    "if x < 5:             # correct\n",
    "    print('yes')\n",
    "\n",
    "if y < x:             # incorrect\n",
    "    print('yes')\n",
    "    \n",
    "if True:              # correct\n",
    "    print('yes')\n",
    "    \n",
    "if False:             # only True will be shown\n",
    "    print('yes')\n",
    "    \n",
    "if x:                 # x=0 False\n",
    "    print('yes')\n",
    "    \n",
    "if y:                 # y=5 in bool is True\n",
    "    print('yes')"
   ]
  },
  {
   "cell_type": "code",
   "execution_count": 2,
   "metadata": {},
   "outputs": [
    {
     "name": "stdout",
     "output_type": "stream",
     "text": [
      "True\n",
      "False\n"
     ]
    }
   ],
   "source": [
    "mylist = ['pork', 'beef', 'chick', 'fish']\n",
    "\n",
    "print('pork' in mylist) # True\n",
    "print('lamb' in mylist) # False"
   ]
  },
  {
   "cell_type": "code",
   "execution_count": 3,
   "metadata": {},
   "outputs": [
    {
     "name": "stdout",
     "output_type": "stream",
     "text": [
      "Go to step 1\n",
      "set aside\n",
      "Go to step 2\n",
      "Go to step 3\n",
      "Done\n"
     ]
    }
   ],
   "source": [
    "#                                   Yes          No\n",
    "\n",
    "if 'beef'in mylist:              #   x    \n",
    "    print('Go to step 1')        #   x\n",
    "    \n",
    "    if 'lamb' in mylist:         #   x\n",
    "        print('Check condition') #               x\n",
    "        \n",
    "    print('set aside')           #   x\n",
    "    \n",
    "    if 'chick' in mylist:        #   x\n",
    "        print('Go to step 2')    #   x\n",
    "    \n",
    "    print('Go to step 3')        #   x\n",
    "print('Done')                    #   x"
   ]
  },
  {
   "cell_type": "code",
   "execution_count": 4,
   "metadata": {},
   "outputs": [
    {
     "name": "stdout",
     "output_type": "stream",
     "text": [
      "Just go home\n"
     ]
    }
   ],
   "source": [
    "book_price = 10000\n",
    "mag_price = 4000\n",
    "money = 3000\n",
    "\n",
    "if money > book_price:\n",
    "    print('Buy the book')\n",
    "elif money > mag_price:\n",
    "    print('Buy the magazine')\n",
    "else:\n",
    "    print('Just go home')"
   ]
  },
  {
   "cell_type": "code",
   "execution_count": 5,
   "metadata": {},
   "outputs": [
    {
     "name": "stdout",
     "output_type": "stream",
     "text": [
      "n\n",
      "right\n"
     ]
    }
   ],
   "source": [
    "n = 5\n",
    "\n",
    "if n > 6 : print('n') ; print('right')   # wrong\n",
    "elif n < 6 : print(\"n\") ; print('right') # right"
   ]
  },
  {
   "cell_type": "code",
   "execution_count": 6,
   "metadata": {},
   "outputs": [
    {
     "name": "stdout",
     "output_type": "stream",
     "text": [
      "10\n",
      "9\n",
      "8\n",
      "7\n",
      "6\n",
      "5\n",
      "4\n",
      "Loop stopped\n"
     ]
    }
   ],
   "source": [
    "p = 10\n",
    "while p > 0:\n",
    "    print(p)\n",
    "    if p == 4:\n",
    "        break\n",
    "    p -= 1\n",
    "print('Loop stopped')"
   ]
  },
  {
   "cell_type": "code",
   "execution_count": 7,
   "metadata": {},
   "outputs": [
    {
     "name": "stdout",
     "output_type": "stream",
     "text": [
      "4\n"
     ]
    }
   ],
   "source": [
    "print(p)"
   ]
  },
  {
   "cell_type": "code",
   "execution_count": 9,
   "metadata": {},
   "outputs": [
    {
     "name": "stdout",
     "output_type": "stream",
     "text": [
      "5\n",
      "4\n",
      "2\n",
      "1\n",
      "0\n",
      "Loop stopped\n"
     ]
    }
   ],
   "source": [
    "l = 6\n",
    "while l > 0:\n",
    "    l -= 1\n",
    "    if l == 3:\n",
    "        continue\n",
    "    print(l)\n",
    "print('Loop stopped')"
   ]
  },
  {
   "cell_type": "code",
   "execution_count": null,
   "metadata": {},
   "outputs": [],
   "source": []
  }
 ],
 "metadata": {
  "kernelspec": {
   "display_name": "Python 3",
   "language": "python",
   "name": "python3"
  },
  "language_info": {
   "codemirror_mode": {
    "name": "ipython",
    "version": 3
   },
   "file_extension": ".py",
   "mimetype": "text/x-python",
   "name": "python",
   "nbconvert_exporter": "python",
   "pygments_lexer": "ipython3",
   "version": "3.8.3"
  }
 },
 "nbformat": 4,
 "nbformat_minor": 4
}
