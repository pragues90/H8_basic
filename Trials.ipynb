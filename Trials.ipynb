{
 "cells": [
  {
   "cell_type": "code",
   "execution_count": 1,
   "metadata": {},
   "outputs": [
    {
     "ename": "UnboundLocalError",
     "evalue": "local variable 'egg' referenced before assignment",
     "output_type": "error",
     "traceback": [
      "\u001b[1;31m---------------------------------------------------------------------------\u001b[0m",
      "\u001b[1;31mUnboundLocalError\u001b[0m                         Traceback (most recent call last)",
      "\u001b[1;32m<ipython-input-1-5cece6dffe59>\u001b[0m in \u001b[0;36m<module>\u001b[1;34m\u001b[0m\n\u001b[0;32m      4\u001b[0m     \u001b[0megg\u001b[0m \u001b[1;33m+=\u001b[0m \u001b[1;36m12\u001b[0m\u001b[1;33m\u001b[0m\u001b[1;33m\u001b[0m\u001b[0m\n\u001b[0;32m      5\u001b[0m \u001b[1;33m\u001b[0m\u001b[0m\n\u001b[1;32m----> 6\u001b[1;33m \u001b[0mbuy_egg\u001b[0m\u001b[1;33m(\u001b[0m\u001b[1;33m)\u001b[0m\u001b[1;33m\u001b[0m\u001b[1;33m\u001b[0m\u001b[0m\n\u001b[0m",
      "\u001b[1;32m<ipython-input-1-5cece6dffe59>\u001b[0m in \u001b[0;36mbuy_egg\u001b[1;34m()\u001b[0m\n\u001b[0;32m      2\u001b[0m \u001b[1;33m\u001b[0m\u001b[0m\n\u001b[0;32m      3\u001b[0m \u001b[1;32mdef\u001b[0m \u001b[0mbuy_egg\u001b[0m\u001b[1;33m(\u001b[0m\u001b[1;33m)\u001b[0m\u001b[1;33m:\u001b[0m\u001b[1;33m\u001b[0m\u001b[1;33m\u001b[0m\u001b[0m\n\u001b[1;32m----> 4\u001b[1;33m     \u001b[0megg\u001b[0m \u001b[1;33m+=\u001b[0m \u001b[1;36m12\u001b[0m\u001b[1;33m\u001b[0m\u001b[1;33m\u001b[0m\u001b[0m\n\u001b[0m\u001b[0;32m      5\u001b[0m \u001b[1;33m\u001b[0m\u001b[0m\n\u001b[0;32m      6\u001b[0m \u001b[0mbuy_egg\u001b[0m\u001b[1;33m(\u001b[0m\u001b[1;33m)\u001b[0m\u001b[1;33m\u001b[0m\u001b[1;33m\u001b[0m\u001b[0m\n",
      "\u001b[1;31mUnboundLocalError\u001b[0m: local variable 'egg' referenced before assignment"
     ]
    }
   ],
   "source": [
    "egg = 0\n",
    "\n",
    "def buy_egg():\n",
    "    egg += 12\n",
    "    \n",
    "buy_egg()"
   ]
  },
  {
   "cell_type": "code",
   "execution_count": 2,
   "metadata": {},
   "outputs": [],
   "source": [
    "def count_uppercase(string):\n",
    "    num_upper = 0\n",
    "    for char in string:\n",
    "        if not char.isupper():\n",
    "            continue\n",
    "        num_upper += 1\n",
    "    return num_upper"
   ]
  },
  {
   "cell_type": "code",
   "execution_count": 3,
   "metadata": {},
   "outputs": [
    {
     "data": {
      "text/plain": [
       "3"
      ]
     },
     "execution_count": 3,
     "metadata": {},
     "output_type": "execute_result"
    }
   ],
   "source": [
    "count_uppercase(\"Welcome to Rocking Rackets\")"
   ]
  },
  {
   "cell_type": "code",
   "execution_count": 4,
   "metadata": {},
   "outputs": [],
   "source": [
    "def count_uppercase_2(string):\n",
    "    num_upper = 0\n",
    "    for char in string:\n",
    "        if char.isupper():\n",
    "            num_upper += 1\n",
    "    return num_upper"
   ]
  },
  {
   "cell_type": "code",
   "execution_count": 5,
   "metadata": {},
   "outputs": [
    {
     "data": {
      "text/plain": [
       "3"
      ]
     },
     "execution_count": 5,
     "metadata": {},
     "output_type": "execute_result"
    }
   ],
   "source": [
    "count_uppercase_2(\"Welcome to Rocking Rackets\")"
   ]
  },
  {
   "cell_type": "markdown",
   "metadata": {},
   "source": [
    "# Numpy"
   ]
  },
  {
   "cell_type": "code",
   "execution_count": 1,
   "metadata": {},
   "outputs": [],
   "source": [
    "import numpy as np"
   ]
  },
  {
   "cell_type": "code",
   "execution_count": 5,
   "metadata": {},
   "outputs": [
    {
     "name": "stdout",
     "output_type": "stream",
     "text": [
      "[0.   0.05 0.1  0.15 0.2  0.25 0.3  0.35 0.4  0.45 0.5  0.55 0.6  0.65\n",
      " 0.7  0.75 0.8  0.85 0.9  0.95]\n"
     ]
    }
   ],
   "source": [
    "arr1 = np.arange(0, 1, .05)\n",
    "\n",
    "print(arr1)"
   ]
  },
  {
   "cell_type": "code",
   "execution_count": 6,
   "metadata": {},
   "outputs": [
    {
     "name": "stdout",
     "output_type": "stream",
     "text": [
      "[[0.   0.05]\n",
      " [0.1  0.15]\n",
      " [0.2  0.25]\n",
      " [0.3  0.35]\n",
      " [0.4  0.45]\n",
      " [0.5  0.55]\n",
      " [0.6  0.65]\n",
      " [0.7  0.75]\n",
      " [0.8  0.85]\n",
      " [0.9  0.95]]\n"
     ]
    }
   ],
   "source": [
    "arr2 = arr1.reshape(10, 2)\n",
    "\n",
    "print(arr2)"
   ]
  },
  {
   "cell_type": "code",
   "execution_count": 8,
   "metadata": {},
   "outputs": [
    {
     "name": "stdout",
     "output_type": "stream",
     "text": [
      "[[0.  0.1]\n",
      " [0.2 0.3]\n",
      " [0.4 0.5]\n",
      " [0.6 0.7]\n",
      " [0.8 0.9]\n",
      " [1.  1.1]\n",
      " [1.2 1.3]\n",
      " [1.4 1.5]\n",
      " [1.6 1.7]\n",
      " [1.8 1.9]]\n"
     ]
    }
   ],
   "source": [
    "arr3 = arr2 * 2     # or arr2.dot(2)\n",
    "\n",
    "print(arr3)"
   ]
  },
  {
   "cell_type": "code",
   "execution_count": 12,
   "metadata": {},
   "outputs": [
    {
     "name": "stdout",
     "output_type": "stream",
     "text": [
      "[[0.005 0.015 0.025 0.035 0.045 0.055 0.065 0.075 0.085 0.095]\n",
      " [0.015 0.065 0.115 0.165 0.215 0.265 0.315 0.365 0.415 0.465]\n",
      " [0.025 0.115 0.205 0.295 0.385 0.475 0.565 0.655 0.745 0.835]\n",
      " [0.035 0.165 0.295 0.425 0.555 0.685 0.815 0.945 1.075 1.205]\n",
      " [0.045 0.215 0.385 0.555 0.725 0.895 1.065 1.235 1.405 1.575]\n",
      " [0.055 0.265 0.475 0.685 0.895 1.105 1.315 1.525 1.735 1.945]\n",
      " [0.065 0.315 0.565 0.815 1.065 1.315 1.565 1.815 2.065 2.315]\n",
      " [0.075 0.365 0.655 0.945 1.235 1.525 1.815 2.105 2.395 2.685]\n",
      " [0.085 0.415 0.745 1.075 1.405 1.735 2.065 2.395 2.725 3.055]\n",
      " [0.095 0.465 0.835 1.205 1.575 1.945 2.315 2.685 3.055 3.425]] (10, 10)\n"
     ]
    }
   ],
   "source": [
    "arr4 = arr2 * arr3 # not this\n",
    "\n",
    "arr4 = np.matmul(arr2, arr3.T) # correct\n",
    "\n",
    "print(arr4, arr4.shape)"
   ]
  },
  {
   "cell_type": "code",
   "execution_count": 18,
   "metadata": {},
   "outputs": [
    {
     "name": "stdout",
     "output_type": "stream",
     "text": [
      "[0.05 0.24 0.43 0.62 0.81 1.   1.19 1.38 1.57 1.76]\n",
      "[0.05 0.24 0.43 0.62 0.81 1.   1.19 1.38 1.57 1.76]\n",
      "[0.02872281 0.14361407 0.25850532 0.37339657 0.48828782 0.60317908\n",
      " 0.71807033 0.83296158 0.94785284 1.06274409] [8.250000e-04 2.062500e-02 6.682500e-02 1.394250e-01 2.384250e-01\n",
      " 3.638250e-01 5.156250e-01 6.938250e-01 8.984250e-01 1.129425e+00]\n"
     ]
    }
   ],
   "source": [
    "arr4_mean = arr4.mean(axis=0)\n",
    "print(arr4_mean)\n",
    "arr4_median = np.median(arr4,axis=0)\n",
    "print(arr4_median)\n",
    "print(arr4.std(axis=0), arr4.var(axis=0))"
   ]
  },
  {
   "cell_type": "code",
   "execution_count": null,
   "metadata": {},
   "outputs": [],
   "source": []
  }
 ],
 "metadata": {
  "kernelspec": {
   "display_name": "Python 3",
   "language": "python",
   "name": "python3"
  },
  "language_info": {
   "codemirror_mode": {
    "name": "ipython",
    "version": 3
   },
   "file_extension": ".py",
   "mimetype": "text/x-python",
   "name": "python",
   "nbconvert_exporter": "python",
   "pygments_lexer": "ipython3",
   "version": "3.8.3"
  }
 },
 "nbformat": 4,
 "nbformat_minor": 4
}
