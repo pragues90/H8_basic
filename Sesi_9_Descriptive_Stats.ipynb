{
 "cells": [
  {
   "cell_type": "code",
   "execution_count": 1,
   "metadata": {},
   "outputs": [],
   "source": [
    "import math\n",
    "import statistics\n",
    "\n",
    "import numpy as np\n",
    "import scipy.stats\n",
    "import pandas as pd\n"
   ]
  },
  {
   "cell_type": "code",
   "execution_count": 2,
   "metadata": {},
   "outputs": [
    {
     "name": "stdout",
     "output_type": "stream",
     "text": [
      "numpy version:   1.19.1\n",
      "scipy version:   1.5.0\n",
      "pandas version:   1.1.2\n"
     ]
    }
   ],
   "source": [
    "print('numpy version:  ', np.__version__)\n",
    "print('scipy version:  ', scipy.__version__)\n",
    "print('pandas version:  ', pd.__version__)"
   ]
  },
  {
   "cell_type": "code",
   "execution_count": 22,
   "metadata": {},
   "outputs": [
    {
     "name": "stdout",
     "output_type": "stream",
     "text": [
      "[8.0, 1, 2.5, 4, 28.0] 5\n",
      "[8.0, 1, 2.5, nan, 4, 28.0] 6\n"
     ]
    }
   ],
   "source": [
    "x = [8.0, 1, 2.5, 4, 28.0]\n",
    "x_with_nan = [8.0, 1, 2.5, math.nan, 4, 28.0]\n",
    "print(x, len(x))\n",
    "print(x_with_nan, len(x_with_nan))"
   ]
  },
  {
   "cell_type": "code",
   "execution_count": 5,
   "metadata": {},
   "outputs": [
    {
     "name": "stdout",
     "output_type": "stream",
     "text": [
      "[ 8.   1.   2.5  4.  28. ]\n",
      "[ 8.   1.   2.5  nan  4.  28. ]\n",
      "0     8.0\n",
      "1     1.0\n",
      "2     2.5\n",
      "3     NaN\n",
      "4     4.0\n",
      "5    28.0\n",
      "dtype: float64\n"
     ]
    }
   ],
   "source": [
    "y, y_with_nan = np.array(x), np.array(x_with_nan)\n",
    "z, z_with_nan = pd.Series(x), pd.Series(x_with_nan)\n",
    "print(y)\n",
    "print(y_with_nan)\n",
    "print(z_with_nan)"
   ]
  },
  {
   "cell_type": "markdown",
   "metadata": {},
   "source": [
    "# Measures of Central Tendency"
   ]
  },
  {
   "cell_type": "markdown",
   "metadata": {},
   "source": [
    "##### Mean"
   ]
  },
  {
   "cell_type": "code",
   "execution_count": 7,
   "metadata": {},
   "outputs": [
    {
     "name": "stdout",
     "output_type": "stream",
     "text": [
      "x:  [8.0, 1, 2.5, 4, 28.0]\n",
      "mean native:  8.7\n",
      "mean statistics:  8.7\n"
     ]
    }
   ],
   "source": [
    "print('x: ', x)\n",
    "mean_native = sum(x) / len(x)\n",
    "print('mean native: ', mean_native)\n",
    "mean_stats = statistics.mean(x)\n",
    "print('mean statistics: ', mean_stats)"
   ]
  },
  {
   "cell_type": "code",
   "execution_count": 10,
   "metadata": {},
   "outputs": [
    {
     "name": "stdout",
     "output_type": "stream",
     "text": [
      "x with nan:  [8.0, 1, 2.5, nan, 4, 28.0]\n",
      "mean with nan native:  nan\n",
      "mean with nastatistics:  nan\n",
      "mean with nan np:  nan\n"
     ]
    }
   ],
   "source": [
    "print('x with nan: ', x_with_nan)\n",
    "mean_native_with_nan = sum(x_with_nan) / len(x_with_nan)\n",
    "print('mean with nan native: ', mean_native_with_nan)\n",
    "mean_stats_with_nan = statistics.mean(x_with_nan)\n",
    "print('mean with nastatistics: ', mean_stats_with_nan)\n",
    "mean_np_with_nan = np.mean(y_with_nan) # or y_with_nan.mean()\n",
    "print('mean with nan np: ', mean_np_with_nan)"
   ]
  },
  {
   "cell_type": "code",
   "execution_count": 11,
   "metadata": {},
   "outputs": [
    {
     "name": "stdout",
     "output_type": "stream",
     "text": [
      "mean ignoring nan np:  8.7\n"
     ]
    }
   ],
   "source": [
    "mean_no_nan_np = np.nanmean(y_with_nan)\n",
    "print('mean ignoring nan np: ', mean_no_nan_np)"
   ]
  },
  {
   "cell_type": "code",
   "execution_count": 12,
   "metadata": {},
   "outputs": [
    {
     "data": {
      "text/plain": [
       "(8.7, nan)"
      ]
     },
     "execution_count": 12,
     "metadata": {},
     "output_type": "execute_result"
    }
   ],
   "source": [
    "z_with_nan.mean(), z_with_nan.mean(skipna=False)"
   ]
  },
  {
   "cell_type": "code",
   "execution_count": 15,
   "metadata": {},
   "outputs": [
    {
     "name": "stdout",
     "output_type": "stream",
     "text": [
      "[2, 2, 4, 4, 4, 4, 4, 8, 8, 8] 10\n",
      "mean: 4.8\n",
      "weighted mean:  4.8\n"
     ]
    }
   ],
   "source": [
    "arr = [2, 2, 4, 4, 4, 4, 4, 8, 8, 8]\n",
    "print(arr, len(arr))\n",
    "print(\"mean:\", np.mean(arr))\n",
    "print('weighted mean: ', .2*2 + .5*4 + .3*8)"
   ]
  },
  {
   "cell_type": "code",
   "execution_count": 24,
   "metadata": {},
   "outputs": [
    {
     "name": "stdout",
     "output_type": "stream",
     "text": [
      "sum of the weight: 1.0\n",
      "weighted mean: 6.95\n",
      "weighted mean: 6.95\n"
     ]
    }
   ],
   "source": [
    "m = [8.0, 1, 2.5, 4, 28.0]\n",
    "w = [0.1, 0.2, 0.3, 0.25, 0.15]\n",
    "\n",
    "print(\"sum of the weight:\", sum(w))\n",
    "\n",
    "wmean = sum(w[i] * m[i] for i in range(len(x))) / sum(w)\n",
    "print(\"weighted mean:\", wmean)\n",
    "\n",
    "wmean = sum(m_ * w_ for (m_, w_) in zip(x, w)) / sum(w)\n",
    "print(\"weighted mean:\", wmean)"
   ]
  },
  {
   "cell_type": "code",
   "execution_count": 25,
   "metadata": {},
   "outputs": [],
   "source": [
    "x += [100]"
   ]
  },
  {
   "cell_type": "code",
   "execution_count": 26,
   "metadata": {},
   "outputs": [
    {
     "name": "stdout",
     "output_type": "stream",
     "text": [
      "[8.0, 1, 2.5, 4, 28.0, 100]\n",
      "arithmetic mean: 23.916666666666668\n",
      "harmonic mean: 3.2954099646920363\n"
     ]
    }
   ],
   "source": [
    "print(x)\n",
    "print('arithmetic mean:', sum(x)/len(x))\n",
    "print('harmonic mean:', len(x) / sum(1/i for i in x))"
   ]
  },
  {
   "cell_type": "code",
   "execution_count": 28,
   "metadata": {},
   "outputs": [
    {
     "data": {
      "text/plain": [
       "3.2954099646920363"
      ]
     },
     "execution_count": 28,
     "metadata": {},
     "output_type": "execute_result"
    }
   ],
   "source": [
    "scipy.stats.hmean(x)"
   ]
  },
  {
   "cell_type": "code",
   "execution_count": 34,
   "metadata": {},
   "outputs": [
    {
     "name": "stdout",
     "output_type": "stream",
     "text": [
      "7.793059696775923\n",
      "7.7930596967759245\n"
     ]
    }
   ],
   "source": [
    "gmean = 1\n",
    "\n",
    "for item in x:\n",
    "    gmean *= item\n",
    "\n",
    "gmean = gmean**(1/len(x))    \n",
    "print(gmean)\n",
    "print(scipy.stats.gmean(x))"
   ]
  },
  {
   "cell_type": "markdown",
   "metadata": {},
   "source": [
    "##### median"
   ]
  },
  {
   "cell_type": "code",
   "execution_count": 38,
   "metadata": {
    "scrolled": true
   },
   "outputs": [
    {
     "name": "stdout",
     "output_type": "stream",
     "text": [
      "[8.0, 1, 2.5, 4, 28.0, 100] 6 [1, 2.5, 4, 8.0, 28.0, 100]\n",
      "median np: 6.0\n",
      "median native: 6.0\n"
     ]
    }
   ],
   "source": [
    "print(x, len(x), sorted(x))\n",
    "\n",
    "print(\"median np:\", np.median(x))\n",
    "\n",
    "if len(x) % 2:\n",
    "    med = sorted(x)[round(.5 * len(x)-1)]\n",
    "else:\n",
    "    ordered_x, index = sorted(x), round(.5 * len(x))\n",
    "    med = .5 * (ordered_x[index-1] + ordered_x[index])\n",
    "print(\"median native:\", med)"
   ]
  },
  {
   "cell_type": "code",
   "execution_count": 39,
   "metadata": {},
   "outputs": [
    {
     "data": {
      "text/plain": [
       "(6.0, 8.0, 4)"
      ]
     },
     "execution_count": 39,
     "metadata": {},
     "output_type": "execute_result"
    }
   ],
   "source": [
    "# median_high = second median for even len(n) in statistics\n",
    "# median_low = first median for even len(n) in statistics\n",
    "\n",
    "statistics.median(x), statistics.median_high(x), statistics.median_low(x)"
   ]
  },
  {
   "cell_type": "code",
   "execution_count": 40,
   "metadata": {},
   "outputs": [
    {
     "data": {
      "text/plain": [
       "([1, 2.5, 4, 8.0, nan, 28.0], 6.0)"
      ]
     },
     "execution_count": 40,
     "metadata": {},
     "output_type": "execute_result"
    }
   ],
   "source": [
    "sorted(x_with_nan), statistics.median(x_with_nan) # nan not included"
   ]
  },
  {
   "cell_type": "code",
   "execution_count": 41,
   "metadata": {},
   "outputs": [
    {
     "name": "stdout",
     "output_type": "stream",
     "text": [
      "0     8.0\n",
      "1     1.0\n",
      "2     2.5\n",
      "3     4.0\n",
      "4    28.0\n",
      "dtype: float64\n"
     ]
    },
    {
     "data": {
      "text/plain": [
       "4.0"
      ]
     },
     "execution_count": 41,
     "metadata": {},
     "output_type": "execute_result"
    }
   ],
   "source": [
    "print(z)\n",
    "z.median()"
   ]
  },
  {
   "cell_type": "markdown",
   "metadata": {},
   "source": [
    "##### mode"
   ]
  },
  {
   "cell_type": "code",
   "execution_count": 44,
   "metadata": {},
   "outputs": [
    {
     "name": "stdout",
     "output_type": "stream",
     "text": [
      "[8.0, 1, 2.5, 4, 28.0, 100]\n",
      "[1, 1, 1, 1, 1, 1]\n"
     ]
    }
   ],
   "source": [
    "print(x)\n",
    "print([x.count(i) for i in x])"
   ]
  },
  {
   "cell_type": "code",
   "execution_count": 45,
   "metadata": {},
   "outputs": [
    {
     "name": "stdout",
     "output_type": "stream",
     "text": [
      "[1.]\n"
     ]
    }
   ],
   "source": [
    "mode_ = scipy.stats.mode(x)\n",
    "print(mode_.mode)"
   ]
  },
  {
   "cell_type": "code",
   "execution_count": 50,
   "metadata": {},
   "outputs": [
    {
     "data": {
      "text/plain": [
       "0      1.0\n",
       "1      2.5\n",
       "2      4.0\n",
       "3      8.0\n",
       "4     28.0\n",
       "5    100.0\n",
       "dtype: float64"
      ]
     },
     "execution_count": 50,
     "metadata": {},
     "output_type": "execute_result"
    }
   ],
   "source": [
    "series_x = pd.Series(x)\n",
    "series_x.mode()"
   ]
  },
  {
   "cell_type": "code",
   "execution_count": 49,
   "metadata": {},
   "outputs": [
    {
     "data": {
      "text/plain": [
       "0     1.0\n",
       "1     2.5\n",
       "2     4.0\n",
       "3     8.0\n",
       "4    28.0\n",
       "dtype: float64"
      ]
     },
     "execution_count": 49,
     "metadata": {},
     "output_type": "execute_result"
    }
   ],
   "source": [
    "z.mode()"
   ]
  },
  {
   "cell_type": "markdown",
   "metadata": {},
   "source": [
    "### Variance"
   ]
  },
  {
   "cell_type": "code",
   "execution_count": 52,
   "metadata": {},
   "outputs": [],
   "source": [
    "x += 100, 1000, 1000"
   ]
  },
  {
   "cell_type": "code",
   "execution_count": 53,
   "metadata": {},
   "outputs": [
    {
     "data": {
      "text/plain": [
       "[8.0, 1, 2.5, 4, 28.0, 100, 100, 1000, 1000]"
      ]
     },
     "execution_count": 53,
     "metadata": {},
     "output_type": "execute_result"
    }
   ],
   "source": [
    "x"
   ]
  },
  {
   "cell_type": "code",
   "execution_count": 55,
   "metadata": {},
   "outputs": [
    {
     "name": "stdout",
     "output_type": "stream",
     "text": [
      "249.27777777777777\n",
      "182702.06944444444\n"
     ]
    }
   ],
   "source": [
    "n = len(x)\n",
    "mean_x = sum(x)/len(x)\n",
    "print(mean_x)\n",
    "variance_x = sum((point - mean_x)**2 for point in x) / (n-1)\n",
    "print(variance_x)"
   ]
  },
  {
   "cell_type": "code",
   "execution_count": 57,
   "metadata": {},
   "outputs": [
    {
     "data": {
      "text/plain": [
       "182702.06944444444"
      ]
     },
     "execution_count": 57,
     "metadata": {},
     "output_type": "execute_result"
    }
   ],
   "source": [
    "var_ = statistics.variance(x)\n",
    "var_"
   ]
  },
  {
   "cell_type": "code",
   "execution_count": 58,
   "metadata": {},
   "outputs": [
    {
     "name": "stdout",
     "output_type": "stream",
     "text": [
      "182702.06944444444\n"
     ]
    }
   ],
   "source": [
    "print(np.var(np.array(x), ddof=1))"
   ]
  },
  {
   "cell_type": "markdown",
   "metadata": {},
   "source": [
    "### Standard deviation"
   ]
  },
  {
   "cell_type": "code",
   "execution_count": 60,
   "metadata": {},
   "outputs": [
    {
     "name": "stdout",
     "output_type": "stream",
     "text": [
      "std native: 427.4366262318245\n",
      "std np: 427.4366262318245\n",
      "std statistics: 427.4366262318245\n"
     ]
    }
   ],
   "source": [
    "print('std native:', variance_x**.5)\n",
    "print('std np:', np.std(x, ddof=1))\n",
    "print('std statistics:', statistics.stdev(x))"
   ]
  },
  {
   "cell_type": "markdown",
   "metadata": {},
   "source": [
    "### skewness"
   ]
  },
  {
   "cell_type": "code",
   "execution_count": 63,
   "metadata": {},
   "outputs": [
    {
     "name": "stdout",
     "output_type": "stream",
     "text": [
      "[8.0, 1, 2.5, 4, 28.0, 100, 100, 1000, 1000]\n",
      "1.5837470893089505\n",
      "1.5837470893089503\n"
     ]
    }
   ],
   "source": [
    "print(x)\n",
    "# n = len(x)\n",
    "# mean_x = sum(x)/len(x)\n",
    "# variance_x = sum((point - mean_x)**2 for point in x) / (n-1)\n",
    "# var_ = statistics.variance(x)\n",
    "std_x = variance_x**.5\n",
    "\n",
    "skew_x = (\n",
    "    sum((item-mean_x)**3 for item in x) * n / ((n-1) * (n-2) * std_x**3)\n",
    ")\n",
    "print(skew_x)\n",
    "print(scipy.stats.skew(x, bias=False))"
   ]
  },
  {
   "cell_type": "markdown",
   "metadata": {},
   "source": [
    "### percentile"
   ]
  },
  {
   "cell_type": "code",
   "execution_count": 74,
   "metadata": {
    "scrolled": true
   },
   "outputs": [
    {
     "name": "stdout",
     "output_type": "stream",
     "text": [
      "[1, 2.5, 4, 8.0, 28.0, 100, 100, 1000, 1000]\n",
      "[8.0, 1, 2.5, 4, 28.0, 100, 100, 1000, 1000]\n"
     ]
    },
    {
     "data": {
      "text/plain": [
       "[4.0, 28.0, 100.0]"
      ]
     },
     "execution_count": 74,
     "metadata": {},
     "output_type": "execute_result"
    }
   ],
   "source": [
    "print(sorted(x))\n",
    "print(x)\n",
    "statistics.quantiles(x, n=4, method=\"inclusive\")\n"
   ]
  },
  {
   "cell_type": "code",
   "execution_count": 65,
   "metadata": {},
   "outputs": [
    {
     "name": "stdout",
     "output_type": "stream",
     "text": [
      "Python 3.8.5\n"
     ]
    }
   ],
   "source": [
    "!python --version"
   ]
  },
  {
   "cell_type": "code",
   "execution_count": 69,
   "metadata": {},
   "outputs": [
    {
     "name": "stdout",
     "output_type": "stream",
     "text": [
      "4.0\n",
      "28.0\n",
      "100.0\n"
     ]
    }
   ],
   "source": [
    "print(np.percentile(x, 25))\n",
    "print(np.percentile(x, 50))\n",
    "print(np.percentile(x, 75))"
   ]
  },
  {
   "cell_type": "code",
   "execution_count": 70,
   "metadata": {},
   "outputs": [
    {
     "data": {
      "text/plain": [
       "array([  4.,  28., 100.])"
      ]
     },
     "execution_count": 70,
     "metadata": {},
     "output_type": "execute_result"
    }
   ],
   "source": [
    "np.quantile(x, [.25, .5, .75])"
   ]
  },
  {
   "cell_type": "code",
   "execution_count": null,
   "metadata": {},
   "outputs": [],
   "source": []
  }
 ],
 "metadata": {
  "kernelspec": {
   "display_name": "Python 3",
   "language": "python",
   "name": "python3"
  },
  "language_info": {
   "codemirror_mode": {
    "name": "ipython",
    "version": 3
   },
   "file_extension": ".py",
   "mimetype": "text/x-python",
   "name": "python",
   "nbconvert_exporter": "python",
   "pygments_lexer": "ipython3",
   "version": "3.8.5"
  }
 },
 "nbformat": 4,
 "nbformat_minor": 4
}
