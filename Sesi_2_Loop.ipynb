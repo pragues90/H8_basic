{
 "cells": [
  {
   "cell_type": "code",
   "execution_count": 1,
   "metadata": {},
   "outputs": [
    {
     "name": "stdout",
     "output_type": "stream",
     "text": [
      "yes\n",
      "yes\n",
      "yes\n"
     ]
    }
   ],
   "source": [
    "x = 0\n",
    "y = 5\n",
    "\n",
    "if x < 5:             # correct\n",
    "    print('yes')\n",
    "\n",
    "if y < x:             # incorrect\n",
    "    print('yes')\n",
    "    \n",
    "if True:              # correct\n",
    "    print('yes')\n",
    "    \n",
    "if False:             # only True will be shown\n",
    "    print('yes')\n",
    "    \n",
    "if x:                 # x=0 False\n",
    "    print('yes')\n",
    "    \n",
    "if y:                 # y=5 in bool is True\n",
    "    print('yes')"
   ]
  },
  {
   "cell_type": "code",
   "execution_count": 2,
   "metadata": {},
   "outputs": [
    {
     "name": "stdout",
     "output_type": "stream",
     "text": [
      "True\n",
      "False\n"
     ]
    }
   ],
   "source": [
    "mylist = ['pork', 'beef', 'chick', 'fish']\n",
    "\n",
    "print('pork' in mylist) # True\n",
    "print('lamb' in mylist) # False"
   ]
  },
  {
   "cell_type": "code",
   "execution_count": 3,
   "metadata": {},
   "outputs": [
    {
     "name": "stdout",
     "output_type": "stream",
     "text": [
      "Go to step 1\n",
      "set aside\n",
      "Go to step 2\n",
      "Go to step 3\n",
      "Done\n"
     ]
    }
   ],
   "source": [
    "#                                   Yes          No\n",
    "\n",
    "if 'beef'in mylist:              #   x    \n",
    "    print('Go to step 1')        #   x\n",
    "    \n",
    "    if 'lamb' in mylist:         #   x\n",
    "        print('Check condition') #               x\n",
    "        \n",
    "    print('set aside')           #   x\n",
    "    \n",
    "    if 'chick' in mylist:        #   x\n",
    "        print('Go to step 2')    #   x\n",
    "    \n",
    "    print('Go to step 3')        #   x\n",
    "print('Done')                    #   x"
   ]
  },
  {
   "cell_type": "code",
   "execution_count": 4,
   "metadata": {},
   "outputs": [
    {
     "name": "stdout",
     "output_type": "stream",
     "text": [
      "Just go home\n"
     ]
    }
   ],
   "source": [
    "book_price = 10000\n",
    "mag_price = 4000\n",
    "money = 3000\n",
    "\n",
    "if money > book_price:\n",
    "    print('Buy the book')\n",
    "elif money > mag_price:\n",
    "    print('Buy the magazine')\n",
    "else:\n",
    "    print('Just go home')"
   ]
  },
  {
   "cell_type": "code",
   "execution_count": 5,
   "metadata": {},
   "outputs": [
    {
     "name": "stdout",
     "output_type": "stream",
     "text": [
      "n\n",
      "right\n"
     ]
    }
   ],
   "source": [
    "n = 5\n",
    "\n",
    "if n > 6 : print('n') ; print('right')   # wrong\n",
    "elif n < 6 : print(\"n\") ; print('right') # right"
   ]
  },
  {
   "cell_type": "code",
   "execution_count": 6,
   "metadata": {},
   "outputs": [
    {
     "name": "stdout",
     "output_type": "stream",
     "text": [
      "10\n",
      "9\n",
      "8\n",
      "7\n",
      "6\n",
      "5\n",
      "4\n",
      "Loop stopped\n"
     ]
    }
   ],
   "source": [
    "p = 10\n",
    "while p > 0:\n",
    "    print(p)\n",
    "    if p == 4:\n",
    "        break\n",
    "    p -= 1\n",
    "print('Loop stopped')"
   ]
  },
  {
   "cell_type": "code",
   "execution_count": 7,
   "metadata": {},
   "outputs": [
    {
     "name": "stdout",
     "output_type": "stream",
     "text": [
      "4\n"
     ]
    }
   ],
   "source": [
    "print(p)"
   ]
  },
  {
   "cell_type": "code",
   "execution_count": 9,
   "metadata": {},
   "outputs": [
    {
     "name": "stdout",
     "output_type": "stream",
     "text": [
      "5\n",
      "4\n",
      "2\n",
      "1\n",
      "0\n",
      "Loop stopped\n"
     ]
    }
   ],
   "source": [
    "l = 6\n",
    "while l > 0:\n",
    "    l -= 1\n",
    "    if l == 3:\n",
    "        continue\n",
    "    print(l)\n",
    "print('Loop stopped')"
   ]
  },
  {
   "cell_type": "code",
   "execution_count": 1,
   "metadata": {},
   "outputs": [
    {
     "ename": "NameError",
     "evalue": "name 'l' is not defined",
     "output_type": "error",
     "traceback": [
      "\u001b[1;31m---------------------------------------------------------------------------\u001b[0m",
      "\u001b[1;31mNameError\u001b[0m                                 Traceback (most recent call last)",
      "\u001b[1;32m<ipython-input-1-e6f469464218>\u001b[0m in \u001b[0;36m<module>\u001b[1;34m\u001b[0m\n\u001b[1;32m----> 1\u001b[1;33m \u001b[0mprint\u001b[0m\u001b[1;33m(\u001b[0m\u001b[0ml\u001b[0m\u001b[1;33m)\u001b[0m\u001b[1;33m\u001b[0m\u001b[1;33m\u001b[0m\u001b[0m\n\u001b[0m",
      "\u001b[1;31mNameError\u001b[0m: name 'l' is not defined"
     ]
    }
   ],
   "source": [
    "print(l)"
   ]
  },
  {
   "cell_type": "code",
   "execution_count": 2,
   "metadata": {},
   "outputs": [],
   "source": [
    "n = 10\n",
    "while n > 10:\n",
    "    if (n+1) % 3 == 0:\n",
    "        n -= 1\n",
    "        continue\n",
    "    elif n % 2 == 0:\n",
    "        print(n, \"is even\")\n",
    "    else:\n",
    "        print(n, \"is off and not divisible by three\")\n",
    "    n -= 1"
   ]
  },
  {
   "cell_type": "code",
   "execution_count": 3,
   "metadata": {},
   "outputs": [
    {
     "name": "stdout",
     "output_type": "stream",
     "text": [
      "10\n"
     ]
    }
   ],
   "source": [
    "print(n)"
   ]
  },
  {
   "cell_type": "code",
   "execution_count": 4,
   "metadata": {},
   "outputs": [
    {
     "name": "stdout",
     "output_type": "stream",
     "text": [
      "10\n"
     ]
    }
   ],
   "source": [
    "n = 10\n",
    "while n > 10:\n",
    "    if (n+1) % 3 == 0:\n",
    "        n -= 1\n",
    "        continue\n",
    "    elif n % 2 == 0:\n",
    "        print(n, \"is even\")\n",
    "    else:\n",
    "        print(n, \"is off and not divisible by three\")\n",
    "    n -= 1\n",
    "print(n)"
   ]
  },
  {
   "cell_type": "code",
   "execution_count": 6,
   "metadata": {},
   "outputs": [
    {
     "name": "stdout",
     "output_type": "stream",
     "text": [
      "10 is even\n",
      "9 is off and not divisible by three\n",
      "7 is off and not divisible by three\n",
      "6 is even\n",
      "4 is even\n",
      "3 is off and not divisible by three\n",
      "1 is off and not divisible by three\n"
     ]
    }
   ],
   "source": [
    "n = 10\n",
    "while n > 0:\n",
    "    if (n+1) % 3 == 0:\n",
    "        n -= 1\n",
    "        continue\n",
    "    elif n % 2 == 0:\n",
    "        print(n, \"is even\")\n",
    "    else:\n",
    "        print(n, \"is off and not divisible by three\")\n",
    "    n -= 1"
   ]
  },
  {
   "cell_type": "code",
   "execution_count": 7,
   "metadata": {},
   "outputs": [
    {
     "name": "stdout",
     "output_type": "stream",
     "text": [
      "Hello, mirza !\n",
      "Hello, sony !\n",
      "Hello, iqbal !\n",
      "Hello, arief !\n",
      "Hello, rio !\n",
      "Hello, joey !\n",
      "Hello, rizka !\n"
     ]
    }
   ],
   "source": [
    "students = [\"mirza\", \"sony\", \"iqbal\", \"arief\", \"rio\", \"joey\", \"rizka\"]\n",
    "\n",
    "for i in students:\n",
    "    print('Hello,', i, '!')"
   ]
  },
  {
   "cell_type": "code",
   "execution_count": 8,
   "metadata": {},
   "outputs": [
    {
     "name": "stdout",
     "output_type": "stream",
     "text": [
      "Hello, mirza !\n",
      "Hello, sony !\n",
      "Hello, iqbal !\n",
      "Hello, arief !\n",
      "Hello, rio !\n",
      "Hello, joey !\n",
      "Hello, rizka !\n"
     ]
    }
   ],
   "source": [
    "for student in students:              # better use a representation code\n",
    "    print('Hello,', student, '!')"
   ]
  },
  {
   "cell_type": "code",
   "execution_count": 25,
   "metadata": {},
   "outputs": [
    {
     "name": "stdout",
     "output_type": "stream",
     "text": [
      "1 1\n",
      "satu\n",
      "dua\n",
      "tiga\n",
      "empat\n",
      "lima\n",
      "value : 1\n",
      "value : 2\n",
      "value : 3\n",
      "value : 4\n",
      "value : 5\n"
     ]
    }
   ],
   "source": [
    "my_dict = {\n",
    "    \"satu\": 1,\n",
    "    \"dua\": 2,\n",
    "    \"tiga\": 3,\n",
    "    \"empat\": 4,\n",
    "    \"lima\": 5,\n",
    "    }\n",
    "\n",
    "print(my_dict.get('satu'), my_dict['satu'])\n",
    "\n",
    "for i in my_dict:     # only show keys\n",
    "    print(i)\n",
    "    \n",
    "for value in my_dict.values():   # need this for values\n",
    "    print('value', ':',value)"
   ]
  },
  {
   "cell_type": "code",
   "execution_count": 26,
   "metadata": {},
   "outputs": [
    {
     "name": "stdout",
     "output_type": "stream",
     "text": [
      "i: 1 j: 2 k: 3\n",
      "i: 4 j: 5 k: 6\n",
      "i: 7 j: 8 k: 9\n"
     ]
    }
   ],
   "source": [
    "nested_list = [\n",
    "    [1, 2, 3],\n",
    "    [4, 5, 6],\n",
    "    [7, 8, 9],\n",
    "]\n",
    "\n",
    "for i, j, k in nested_list:\n",
    "    print('i:', i, 'j:', j, 'k:', k)"
   ]
  },
  {
   "cell_type": "code",
   "execution_count": 28,
   "metadata": {},
   "outputs": [
    {
     "name": "stdout",
     "output_type": "stream",
     "text": [
      "0\n",
      "1\n",
      "2\n",
      "3\n",
      "4\n",
      "5\n",
      "6\n",
      "7\n",
      "8\n",
      "9\n"
     ]
    }
   ],
   "source": [
    "for i in range(10):\n",
    "    print(i)"
   ]
  },
  {
   "cell_type": "code",
   "execution_count": 33,
   "metadata": {},
   "outputs": [
    {
     "name": "stdout",
     "output_type": "stream",
     "text": [
      "[0,0]= 1\n",
      "[0,1]= 2\n",
      "[0,2]= 3\n",
      "[1,0]= 4\n",
      "[1,1]= 5\n",
      "[1,2]= 6\n",
      "[2,0]= 7\n",
      "[2,1]= 8\n",
      "[2,2]= 9\n",
      "[0,0]= 1\n",
      "[0,1]= 2\n",
      "[0,2]= 3\n",
      "[1,0]= 4\n",
      "[1,1]= 5\n",
      "[1,2]= 6\n",
      "[2,0]= 7\n",
      "[2,1]= 8\n",
      "[2,2]= 9\n"
     ]
    }
   ],
   "source": [
    "for i in range(len(nested_list)):\n",
    "    for j in range(len(nested_list[i])):\n",
    "        print(f\"[{i},{j}]= {nested_list[i][j]}\")   # f-string literal\n",
    "        \n",
    "for i in range(len(nested_list)):\n",
    "    for j in range(len(nested_list[i])):\n",
    "        print(\"[{},{}]= {}\".format(i, j, nested_list[i][j]))  "
   ]
  },
  {
   "cell_type": "code",
   "execution_count": null,
   "metadata": {},
   "outputs": [],
   "source": []
  },
  {
   "cell_type": "code",
   "execution_count": null,
   "metadata": {},
   "outputs": [],
   "source": []
  },
  {
   "cell_type": "code",
   "execution_count": null,
   "metadata": {},
   "outputs": [],
   "source": []
  }
 ],
 "metadata": {
  "kernelspec": {
   "display_name": "Python 3",
   "language": "python",
   "name": "python3"
  },
  "language_info": {
   "codemirror_mode": {
    "name": "ipython",
    "version": 3
   },
   "file_extension": ".py",
   "mimetype": "text/x-python",
   "name": "python",
   "nbconvert_exporter": "python",
   "pygments_lexer": "ipython3",
   "version": "3.8.3"
  }
 },
 "nbformat": 4,
 "nbformat_minor": 4
}
